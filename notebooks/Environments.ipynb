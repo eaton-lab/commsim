{
 "cells": [
  {
   "cell_type": "markdown",
   "id": "pregnant-indication",
   "metadata": {},
   "source": [
    "### Demo Environment Layers"
   ]
  },
  {
   "cell_type": "code",
   "execution_count": 1,
   "id": "potential-wilson",
   "metadata": {},
   "outputs": [],
   "source": [
    "# conda install altair -c conda-forge\n",
    "# conda install pyvista -c conda-forge"
   ]
  },
  {
   "cell_type": "code",
   "execution_count": 1,
   "id": "suitable-celtic",
   "metadata": {},
   "outputs": [],
   "source": [
    "import commsim\n",
    "commsim.set_loglevel(\"DEBUG\")"
   ]
  },
  {
   "cell_type": "code",
   "execution_count": 2,
   "id": "outdoor-plastic",
   "metadata": {},
   "outputs": [],
   "source": [
    "import altair as alt\n",
    "import numpy as np"
   ]
  },
  {
   "cell_type": "code",
   "execution_count": 3,
   "id": "exotic-diameter",
   "metadata": {},
   "outputs": [],
   "source": [
    "N = 100\n",
    "M = 100\n",
    "\n",
    "layer1 = commsim.Linear((N, M), minval=0, maxval=1, angle=45)\n",
    "layer2 = commsim.Linear((N, M), minval=0, maxval=1, angle=90)\n",
    "layer3 = commsim.Gaussian(shape=(N, M), peaks=30, minval=0, maxval=1, decay=10.0, seed=12345)"
   ]
  },
  {
   "cell_type": "code",
   "execution_count": 4,
   "id": "bronze-diameter",
   "metadata": {},
   "outputs": [
    {
     "data": {
      "text/html": [
       "\n",
       "<div id=\"altair-viz-403297a1a4ec46dfb5b4cc6a340bfc0a\"></div>\n",
       "<script type=\"text/javascript\">\n",
       "  (function(spec, embedOpt){\n",
       "    let outputDiv = document.currentScript.previousElementSibling;\n",
       "    if (outputDiv.id !== \"altair-viz-403297a1a4ec46dfb5b4cc6a340bfc0a\") {\n",
       "      outputDiv = document.getElementById(\"altair-viz-403297a1a4ec46dfb5b4cc6a340bfc0a\");\n",
       "    }\n",
       "    const paths = {\n",
       "      \"vega\": \"https://cdn.jsdelivr.net/npm//vega@5?noext\",\n",
       "      \"vega-lib\": \"https://cdn.jsdelivr.net/npm//vega-lib?noext\",\n",
       "      \"vega-lite\": \"https://cdn.jsdelivr.net/npm//vega-lite@4.8.1?noext\",\n",
       "      \"vega-embed\": \"https://cdn.jsdelivr.net/npm//vega-embed@6?noext\",\n",
       "    };\n",
       "\n",
       "    function loadScript(lib) {\n",
       "      return new Promise(function(resolve, reject) {\n",
       "        var s = document.createElement('script');\n",
       "        s.src = paths[lib];\n",
       "        s.async = true;\n",
       "        s.onload = () => resolve(paths[lib]);\n",
       "        s.onerror = () => reject(`Error loading script: ${paths[lib]}`);\n",
       "        document.getElementsByTagName(\"head\")[0].appendChild(s);\n",
       "      });\n",
       "    }\n",
       "\n",
       "    function showError(err) {\n",
       "      outputDiv.innerHTML = `<div class=\"error\" style=\"color:red;\">${err}</div>`;\n",
       "      throw err;\n",
       "    }\n",
       "\n",
       "    function displayChart(vegaEmbed) {\n",
       "      vegaEmbed(outputDiv, spec, embedOpt)\n",
       "        .catch(err => showError(`Javascript Error: ${err.message}<br>This usually means there's a typo in your chart specification. See the javascript console for the full traceback.`));\n",
       "    }\n",
       "\n",
       "    if(typeof define === \"function\" && define.amd) {\n",
       "      requirejs.config({paths});\n",
       "      require([\"vega-embed\"], displayChart, err => showError(`Error loading script: ${err.message}`));\n",
       "    } else if (typeof vegaEmbed === \"function\") {\n",
       "      displayChart(vegaEmbed);\n",
       "    } else {\n",
       "      loadScript(\"vega\")\n",
       "        .then(() => loadScript(\"vega-lite\"))\n",
       "        .then(() => loadScript(\"vega-embed\"))\n",
       "        .catch(showError)\n",
       "        .then(() => displayChart(vegaEmbed));\n",
       "    }\n",
       "  })({\"config\": {\"view\": {\"continuousWidth\": 400, \"continuousHeight\": 300}}, \"concat\": [{\"concat\": [{\"mark\": \"rect\", \"encoding\": {\"color\": {\"type\": \"quantitative\", \"field\": \"z\"}, \"tooltip\": [{\"type\": \"quantitative\", \"field\": \"z\", \"title\": \"z\"}], \"x\": {\"type\": \"ordinal\", \"axis\": null, \"field\": \"x\"}, \"y\": {\"type\": \"ordinal\", \"axis\": null, \"field\": \"y\"}}, \"height\": 250, \"title\": \"<Linear Layer>\", \"width\": 250}], \"data\": {\"url\": \"altair-data-2e73a0155b1237257647b943c093dc25.json\", \"format\": {\"type\": \"json\"}}}, {\"concat\": [{\"mark\": \"rect\", \"encoding\": {\"color\": {\"type\": \"quantitative\", \"field\": \"z\"}, \"tooltip\": [{\"type\": \"quantitative\", \"field\": \"z\", \"title\": \"z\"}], \"x\": {\"type\": \"ordinal\", \"axis\": null, \"field\": \"x\"}, \"y\": {\"type\": \"ordinal\", \"axis\": null, \"field\": \"y\"}}, \"height\": 250, \"title\": \"<Linear Layer>\", \"width\": 250}], \"data\": {\"url\": \"altair-data-b42c2ba365cafbe70c81a0bdd7950b48.json\", \"format\": {\"type\": \"json\"}}}, {\"concat\": [{\"mark\": \"rect\", \"encoding\": {\"color\": {\"type\": \"quantitative\", \"field\": \"z\"}, \"tooltip\": [{\"type\": \"quantitative\", \"field\": \"z\", \"title\": \"z\"}], \"x\": {\"type\": \"ordinal\", \"axis\": null, \"field\": \"x\"}, \"y\": {\"type\": \"ordinal\", \"axis\": null, \"field\": \"y\"}}, \"height\": 250, \"title\": \"<Gaussian Layer>\", \"width\": 250}], \"data\": {\"url\": \"altair-data-168b470cf1ae9192a90f5c8d683541dc.json\", \"format\": {\"type\": \"json\"}}}], \"$schema\": \"https://vega.github.io/schema/vega-lite/v4.8.1.json\"}, {\"mode\": \"vega-lite\"});\n",
       "</script>"
      ],
      "text/plain": [
       "alt.ConcatChart(...)"
      ]
     },
     "execution_count": 4,
     "metadata": {},
     "output_type": "execute_result"
    }
   ],
   "source": [
    "alt.concat(\n",
    "    layer1.draw(),\n",
    "    layer2.draw(),\n",
    "    layer3.draw(),\n",
    ")"
   ]
  },
  {
   "cell_type": "code",
   "execution_count": 5,
   "id": "alleged-interstate",
   "metadata": {},
   "outputs": [
    {
     "data": {
      "text/html": [
       "\n",
       "<div id=\"altair-viz-f57ea28f2c7f4d5697981f2ced82ebd5\"></div>\n",
       "<script type=\"text/javascript\">\n",
       "  (function(spec, embedOpt){\n",
       "    let outputDiv = document.currentScript.previousElementSibling;\n",
       "    if (outputDiv.id !== \"altair-viz-f57ea28f2c7f4d5697981f2ced82ebd5\") {\n",
       "      outputDiv = document.getElementById(\"altair-viz-f57ea28f2c7f4d5697981f2ced82ebd5\");\n",
       "    }\n",
       "    const paths = {\n",
       "      \"vega\": \"https://cdn.jsdelivr.net/npm//vega@5?noext\",\n",
       "      \"vega-lib\": \"https://cdn.jsdelivr.net/npm//vega-lib?noext\",\n",
       "      \"vega-lite\": \"https://cdn.jsdelivr.net/npm//vega-lite@4.8.1?noext\",\n",
       "      \"vega-embed\": \"https://cdn.jsdelivr.net/npm//vega-embed@6?noext\",\n",
       "    };\n",
       "\n",
       "    function loadScript(lib) {\n",
       "      return new Promise(function(resolve, reject) {\n",
       "        var s = document.createElement('script');\n",
       "        s.src = paths[lib];\n",
       "        s.async = true;\n",
       "        s.onload = () => resolve(paths[lib]);\n",
       "        s.onerror = () => reject(`Error loading script: ${paths[lib]}`);\n",
       "        document.getElementsByTagName(\"head\")[0].appendChild(s);\n",
       "      });\n",
       "    }\n",
       "\n",
       "    function showError(err) {\n",
       "      outputDiv.innerHTML = `<div class=\"error\" style=\"color:red;\">${err}</div>`;\n",
       "      throw err;\n",
       "    }\n",
       "\n",
       "    function displayChart(vegaEmbed) {\n",
       "      vegaEmbed(outputDiv, spec, embedOpt)\n",
       "        .catch(err => showError(`Javascript Error: ${err.message}<br>This usually means there's a typo in your chart specification. See the javascript console for the full traceback.`));\n",
       "    }\n",
       "\n",
       "    if(typeof define === \"function\" && define.amd) {\n",
       "      requirejs.config({paths});\n",
       "      require([\"vega-embed\"], displayChart, err => showError(`Error loading script: ${err.message}`));\n",
       "    } else if (typeof vegaEmbed === \"function\") {\n",
       "      displayChart(vegaEmbed);\n",
       "    } else {\n",
       "      loadScript(\"vega\")\n",
       "        .then(() => loadScript(\"vega-lite\"))\n",
       "        .then(() => loadScript(\"vega-embed\"))\n",
       "        .catch(showError)\n",
       "        .then(() => displayChart(vegaEmbed));\n",
       "    }\n",
       "  })({\"config\": {\"view\": {\"continuousWidth\": 400, \"continuousHeight\": 300}}, \"concat\": [{\"mark\": \"rect\", \"encoding\": {\"color\": {\"type\": \"quantitative\", \"field\": \"z\"}, \"tooltip\": [{\"type\": \"quantitative\", \"field\": \"z\", \"title\": \"z\"}], \"x\": {\"type\": \"ordinal\", \"axis\": null, \"field\": \"x\"}, \"y\": {\"type\": \"ordinal\", \"axis\": null, \"field\": \"y\"}}, \"height\": 250, \"title\": \"<Layer>\", \"width\": 250}], \"data\": {\"url\": \"altair-data-0ff6cb8dba6b3fdc774f1833eeccddb5.json\", \"format\": {\"type\": \"json\"}}, \"$schema\": \"https://vega.github.io/schema/vega-lite/v4.8.1.json\"}, {\"mode\": \"vega-lite\"});\n",
       "</script>"
      ],
      "text/plain": [
       "alt.ConcatChart(...)"
      ]
     },
     "execution_count": 5,
     "metadata": {},
     "output_type": "execute_result"
    }
   ],
   "source": [
    "joint = (layer1 + layer2 + layer3)\n",
    "joint.draw()"
   ]
  },
  {
   "cell_type": "code",
   "execution_count": 6,
   "id": "compliant-outdoors",
   "metadata": {},
   "outputs": [
    {
     "data": {
      "image/png": "[encoded data removed]",
      "text/plain": [
       "<PIL.Image.Image image mode=RGB size=600x400 at 0x1473740D0>"
      ]
     },
     "metadata": {},
     "output_type": "display_data"
    },
    {
     "data": {
      "text/plain": [
       "[(2.395842992436437, 2.395842992436437, 2.3673314767454787),\n",
       " (0.5, 0.5, 0.47148848430904167),\n",
       " (0.0, 0.0, 1.0)]"
      ]
     },
     "execution_count": 6,
     "metadata": {},
     "output_type": "execute_result"
    }
   ],
   "source": [
    "import pyvista as pv\n",
    "\n",
    "# get data as numpy arrays\n",
    "x = joint.data.x.values.reshape(100, 100)\n",
    "y = joint.data.y.values.reshape(100, 100)\n",
    "z = joint.data.z.values.reshape(100, 100)\n",
    "\n",
    "# create a grid object\n",
    "struct = pv.StructuredGrid(x, y, z)\n",
    "\n",
    "# extend to a bottom depth to create a volume\n",
    "top = struct.points.copy()\n",
    "bottom = struct.points.copy()\n",
    "bottom[:, -1] = 0.0\n",
    "vol = pv.StructuredGrid()\n",
    "vol.points = np.vstack((top, bottom))\n",
    "vol.dimensions = [*struct.dimensions[0:2], 2]\n",
    "\n",
    "# draw\n",
    "vol.plot(clim=[-1, 1], show_grid=True, window_size=(600, 400))\n",
    "\n",
    "# draw another way\n",
    "# plotter = pv.Plotter(lighting=\"none\")\n",
    "# plotter.add_mesh(vol, color=\"white\")\n",
    "# light = pv.Light()\n",
    "# light.set_direction_angle(50,30)\n",
    "# plotter.add_light(light)\n",
    "# plotter.show(title=\"commsim layer\", window_size=(600, 400))"
   ]
  },
  {
   "cell_type": "markdown",
   "id": "comparable-packing",
   "metadata": {},
   "source": [
    "## TODO"
   ]
  },
  {
   "cell_type": "code",
   "execution_count": 7,
   "id": "editorial-indonesian",
   "metadata": {},
   "outputs": [],
   "source": [
    "from commsim.Environment import *"
   ]
  },
  {
   "cell_type": "code",
   "execution_count": 8,
   "id": "infrared-trance",
   "metadata": {},
   "outputs": [],
   "source": [
    "\n",
    "# SHAPE = (100, 100)\n",
    "# env = Environment(\n",
    "#     shape=SHAPE,\n",
    "#     bioclims={\n",
    "#         \"min-temp\": Linear(SHAPE, -5, 0, angle=90),\n",
    "#         \"mean-temp\": Linear(SHAPE, 0, 10, angle=90),\n",
    "#         \"max-temp\": Linear(SHAPE, 20, 50, angle=90),\n",
    "#         \"min-precip\": Linear(SHAPE, 1, 10, angle=45),\n",
    "#         \"mean-precip\": Linear(SHAPE, 3, 12, angle=45),\n",
    "#     },\n",
    "#     elevation=Gaussian(SHAPE, 10, 5),\n",
    "#     elevation_coeff={\n",
    "#         \"min-temp\": 0.5,\n",
    "#         \"mean-temp\": 0.5,\n",
    "#         \"max-temp\": 0.5,\n",
    "#         \"min-precip\": 2.5,\n",
    "#         \"mean-precip\": 2.5,\n",
    "#     }\n",
    "# )\n",
    "\n",
    "# env.data\n",
    "# # dataframe with [layer-name, elev-coeff, Layer]\n",
    "\n"
   ]
  },
  {
   "cell_type": "code",
   "execution_count": 8,
   "id": "surrounded-hawaiian",
   "metadata": {},
   "outputs": [],
   "source": [
    "class Environment:\n",
    "    \"\"\"\n",
    "    Generates and stores a 3-d matrix of environment Layers.\n",
    "    Environmental variables (bioclims) are added as simple gradients \n",
    "    with min,max values, and they are then transformed by elevation \n",
    "    which can apply a different coefficient to each variable \n",
    "    (how strongly it correlates with elevation).\n",
    "\n",
    "    The environmental matrix is created during init and then there\n",
    "    are draw functions available to visualize the array layers.\n",
    "    \n",
    "    Parameters:\n",
    "    -----------\n",
    "    ...\n",
    "    \"\"\"\n",
    "    def __init__(\n",
    "        self, \n",
    "        shape:Tuple[int,int]=(10,10),\n",
    "        bioclims:Union[Dict[str,Layer], None]=None,\n",
    "        elevation:Union[Dict[str,float], None]=None,\n",
    "        ):\n",
    "        \n",
    "        self.shape = shape\n",
    "        self.bioclims = bioclims\n",
    "        self.elevation = elevation\n",
    "        \n",
    "    \n",
    "    def __repr__(self):\n",
    "        return \"<Environment>\"\n",
    "              \n",
    "    \n",
    "env = Environment(\n",
    "    shape=(20, 20),\n",
    "    bioclims={\n",
    "        'mean-temp': Linear((20,20), angle=90),\n",
    "        'min-temp': Linear((20,20), minval=-5, maxval=0),\n",
    "        'elevation': Gaussian((20, 20), peaks=10, decay=5),\n",
    "    },\n",
    "    elevation={\n",
    "        \n",
    "    }\n",
    ")"
   ]
  },
  {
   "cell_type": "code",
   "execution_count": 25,
   "id": "forced-processing",
   "metadata": {},
   "outputs": [
    {
     "data": {
      "text/html": [
       "\n",
       "<div id=\"altair-viz-e4f6834bed634606b023df657047e331\"></div>\n",
       "<script type=\"text/javascript\">\n",
       "  (function(spec, embedOpt){\n",
       "    let outputDiv = document.currentScript.previousElementSibling;\n",
       "    if (outputDiv.id !== \"altair-viz-e4f6834bed634606b023df657047e331\") {\n",
       "      outputDiv = document.getElementById(\"altair-viz-e4f6834bed634606b023df657047e331\");\n",
       "    }\n",
       "    const paths = {\n",
       "      \"vega\": \"https://cdn.jsdelivr.net/npm//vega@5?noext\",\n",
       "      \"vega-lib\": \"https://cdn.jsdelivr.net/npm//vega-lib?noext\",\n",
       "      \"vega-lite\": \"https://cdn.jsdelivr.net/npm//vega-lite@4.8.1?noext\",\n",
       "      \"vega-embed\": \"https://cdn.jsdelivr.net/npm//vega-embed@6?noext\",\n",
       "    };\n",
       "\n",
       "    function loadScript(lib) {\n",
       "      return new Promise(function(resolve, reject) {\n",
       "        var s = document.createElement('script');\n",
       "        s.src = paths[lib];\n",
       "        s.async = true;\n",
       "        s.onload = () => resolve(paths[lib]);\n",
       "        s.onerror = () => reject(`Error loading script: ${paths[lib]}`);\n",
       "        document.getElementsByTagName(\"head\")[0].appendChild(s);\n",
       "      });\n",
       "    }\n",
       "\n",
       "    function showError(err) {\n",
       "      outputDiv.innerHTML = `<div class=\"error\" style=\"color:red;\">${err}</div>`;\n",
       "      throw err;\n",
       "    }\n",
       "\n",
       "    function displayChart(vegaEmbed) {\n",
       "      vegaEmbed(outputDiv, spec, embedOpt)\n",
       "        .catch(err => showError(`Javascript Error: ${err.message}<br>This usually means there's a typo in your chart specification. See the javascript console for the full traceback.`));\n",
       "    }\n",
       "\n",
       "    if(typeof define === \"function\" && define.amd) {\n",
       "      requirejs.config({paths});\n",
       "      require([\"vega-embed\"], displayChart, err => showError(`Error loading script: ${err.message}`));\n",
       "    } else if (typeof vegaEmbed === \"function\") {\n",
       "      displayChart(vegaEmbed);\n",
       "    } else {\n",
       "      loadScript(\"vega\")\n",
       "        .then(() => loadScript(\"vega-lite\"))\n",
       "        .then(() => loadScript(\"vega-embed\"))\n",
       "        .catch(showError)\n",
       "        .then(() => displayChart(vegaEmbed));\n",
       "    }\n",
       "  })({\"config\": {\"view\": {\"continuousWidth\": 400, \"continuousHeight\": 300}}, \"concat\": [{\"mark\": \"rect\", \"encoding\": {\"color\": {\"type\": \"quantitative\", \"field\": \"z\"}, \"tooltip\": [{\"type\": \"quantitative\", \"field\": \"z\", \"title\": \"z\"}], \"x\": {\"type\": \"ordinal\", \"axis\": null, \"field\": \"x\"}, \"y\": {\"type\": \"ordinal\", \"axis\": null, \"field\": \"y\"}}, \"height\": 250, \"title\": \"<Gaussian Layer>\", \"width\": 250}], \"data\": {\"url\": \"altair-data-a911cdc7ebe8997d15c6d133ebaedfe4.json\", \"format\": {\"type\": \"json\"}}, \"$schema\": \"https://vega.github.io/schema/vega-lite/v4.8.1.json\"}, {\"mode\": \"vega-lite\"});\n",
       "</script>"
      ],
      "text/plain": [
       "alt.ConcatChart(...)"
      ]
     },
     "execution_count": 25,
     "metadata": {},
     "output_type": "execute_result"
    }
   ],
   "source": [
    "elev = env.bioclims[\"elevation\"]\n",
    "env.bioclims['elevation'].draw()"
   ]
  },
  {
   "cell_type": "code",
   "execution_count": 26,
   "id": "recorded-leisure",
   "metadata": {},
   "outputs": [
    {
     "data": {
      "text/html": [
       "\n",
       "<div id=\"altair-viz-44842f75a45948b48e9d9c63d5a6c8c7\"></div>\n",
       "<script type=\"text/javascript\">\n",
       "  (function(spec, embedOpt){\n",
       "    let outputDiv = document.currentScript.previousElementSibling;\n",
       "    if (outputDiv.id !== \"altair-viz-44842f75a45948b48e9d9c63d5a6c8c7\") {\n",
       "      outputDiv = document.getElementById(\"altair-viz-44842f75a45948b48e9d9c63d5a6c8c7\");\n",
       "    }\n",
       "    const paths = {\n",
       "      \"vega\": \"https://cdn.jsdelivr.net/npm//vega@5?noext\",\n",
       "      \"vega-lib\": \"https://cdn.jsdelivr.net/npm//vega-lib?noext\",\n",
       "      \"vega-lite\": \"https://cdn.jsdelivr.net/npm//vega-lite@4.8.1?noext\",\n",
       "      \"vega-embed\": \"https://cdn.jsdelivr.net/npm//vega-embed@6?noext\",\n",
       "    };\n",
       "\n",
       "    function loadScript(lib) {\n",
       "      return new Promise(function(resolve, reject) {\n",
       "        var s = document.createElement('script');\n",
       "        s.src = paths[lib];\n",
       "        s.async = true;\n",
       "        s.onload = () => resolve(paths[lib]);\n",
       "        s.onerror = () => reject(`Error loading script: ${paths[lib]}`);\n",
       "        document.getElementsByTagName(\"head\")[0].appendChild(s);\n",
       "      });\n",
       "    }\n",
       "\n",
       "    function showError(err) {\n",
       "      outputDiv.innerHTML = `<div class=\"error\" style=\"color:red;\">${err}</div>`;\n",
       "      throw err;\n",
       "    }\n",
       "\n",
       "    function displayChart(vegaEmbed) {\n",
       "      vegaEmbed(outputDiv, spec, embedOpt)\n",
       "        .catch(err => showError(`Javascript Error: ${err.message}<br>This usually means there's a typo in your chart specification. See the javascript console for the full traceback.`));\n",
       "    }\n",
       "\n",
       "    if(typeof define === \"function\" && define.amd) {\n",
       "      requirejs.config({paths});\n",
       "      require([\"vega-embed\"], displayChart, err => showError(`Error loading script: ${err.message}`));\n",
       "    } else if (typeof vegaEmbed === \"function\") {\n",
       "      displayChart(vegaEmbed);\n",
       "    } else {\n",
       "      loadScript(\"vega\")\n",
       "        .then(() => loadScript(\"vega-lite\"))\n",
       "        .then(() => loadScript(\"vega-embed\"))\n",
       "        .catch(showError)\n",
       "        .then(() => displayChart(vegaEmbed));\n",
       "    }\n",
       "  })({\"config\": {\"view\": {\"continuousWidth\": 400, \"continuousHeight\": 300}}, \"concat\": [{\"mark\": \"rect\", \"encoding\": {\"color\": {\"type\": \"quantitative\", \"field\": \"z\"}, \"tooltip\": [{\"type\": \"quantitative\", \"field\": \"z\", \"title\": \"z\"}], \"x\": {\"type\": \"ordinal\", \"axis\": null, \"field\": \"x\"}, \"y\": {\"type\": \"ordinal\", \"axis\": null, \"field\": \"y\"}}, \"height\": 250, \"title\": \"<Linear Layer>\", \"width\": 250}], \"data\": {\"url\": \"altair-data-f2053381a8bc222c02943e859f6bf3e8.json\", \"format\": {\"type\": \"json\"}}, \"$schema\": \"https://vega.github.io/schema/vega-lite/v4.8.1.json\"}, {\"mode\": \"vega-lite\"});\n",
       "</script>"
      ],
      "text/plain": [
       "alt.ConcatChart(...)"
      ]
     },
     "execution_count": 26,
     "metadata": {},
     "output_type": "execute_result"
    }
   ],
   "source": [
    "mean_temp = env.bioclims[\"mean-temp\"]\n",
    "env.bioclims['mean-temp'].draw()"
   ]
  },
  {
   "cell_type": "code",
   "execution_count": 27,
   "id": "lovely-result",
   "metadata": {},
   "outputs": [
    {
     "data": {
      "text/html": [
       "\n",
       "<div id=\"altair-viz-d7309e20346343d586d2bbcf0fdfe440\"></div>\n",
       "<script type=\"text/javascript\">\n",
       "  (function(spec, embedOpt){\n",
       "    let outputDiv = document.currentScript.previousElementSibling;\n",
       "    if (outputDiv.id !== \"altair-viz-d7309e20346343d586d2bbcf0fdfe440\") {\n",
       "      outputDiv = document.getElementById(\"altair-viz-d7309e20346343d586d2bbcf0fdfe440\");\n",
       "    }\n",
       "    const paths = {\n",
       "      \"vega\": \"https://cdn.jsdelivr.net/npm//vega@5?noext\",\n",
       "      \"vega-lib\": \"https://cdn.jsdelivr.net/npm//vega-lib?noext\",\n",
       "      \"vega-lite\": \"https://cdn.jsdelivr.net/npm//vega-lite@4.8.1?noext\",\n",
       "      \"vega-embed\": \"https://cdn.jsdelivr.net/npm//vega-embed@6?noext\",\n",
       "    };\n",
       "\n",
       "    function loadScript(lib) {\n",
       "      return new Promise(function(resolve, reject) {\n",
       "        var s = document.createElement('script');\n",
       "        s.src = paths[lib];\n",
       "        s.async = true;\n",
       "        s.onload = () => resolve(paths[lib]);\n",
       "        s.onerror = () => reject(`Error loading script: ${paths[lib]}`);\n",
       "        document.getElementsByTagName(\"head\")[0].appendChild(s);\n",
       "      });\n",
       "    }\n",
       "\n",
       "    function showError(err) {\n",
       "      outputDiv.innerHTML = `<div class=\"error\" style=\"color:red;\">${err}</div>`;\n",
       "      throw err;\n",
       "    }\n",
       "\n",
       "    function displayChart(vegaEmbed) {\n",
       "      vegaEmbed(outputDiv, spec, embedOpt)\n",
       "        .catch(err => showError(`Javascript Error: ${err.message}<br>This usually means there's a typo in your chart specification. See the javascript console for the full traceback.`));\n",
       "    }\n",
       "\n",
       "    if(typeof define === \"function\" && define.amd) {\n",
       "      requirejs.config({paths});\n",
       "      require([\"vega-embed\"], displayChart, err => showError(`Error loading script: ${err.message}`));\n",
       "    } else if (typeof vegaEmbed === \"function\") {\n",
       "      displayChart(vegaEmbed);\n",
       "    } else {\n",
       "      loadScript(\"vega\")\n",
       "        .then(() => loadScript(\"vega-lite\"))\n",
       "        .then(() => loadScript(\"vega-embed\"))\n",
       "        .catch(showError)\n",
       "        .then(() => displayChart(vegaEmbed));\n",
       "    }\n",
       "  })({\"config\": {\"view\": {\"continuousWidth\": 400, \"continuousHeight\": 300}}, \"concat\": [{\"mark\": \"rect\", \"encoding\": {\"color\": {\"type\": \"quantitative\", \"field\": \"z\"}, \"tooltip\": [{\"type\": \"quantitative\", \"field\": \"z\", \"title\": \"z\"}], \"x\": {\"type\": \"ordinal\", \"axis\": null, \"field\": \"x\"}, \"y\": {\"type\": \"ordinal\", \"axis\": null, \"field\": \"y\"}}, \"height\": 250, \"title\": \"<Linear Layer>\", \"width\": 250}], \"data\": {\"url\": \"altair-data-50369f8d81b007271f04dd8a310ffea8.json\", \"format\": {\"type\": \"json\"}}, \"$schema\": \"https://vega.github.io/schema/vega-lite/v4.8.1.json\"}, {\"mode\": \"vega-lite\"});\n",
       "</script>"
      ],
      "text/plain": [
       "alt.ConcatChart(...)"
      ]
     },
     "execution_count": 27,
     "metadata": {},
     "output_type": "execute_result"
    }
   ],
   "source": [
    "min_temp = env.bioclims[\"min-temp\"]\n",
    "env.bioclims[\"min-temp\"].draw()"
   ]
  },
  {
   "cell_type": "code",
   "execution_count": 28,
   "id": "alpha-flush",
   "metadata": {},
   "outputs": [
    {
     "data": {
      "text/html": [
       "\n",
       "<div id=\"altair-viz-824e21bf755244dcb492246572d3fae8\"></div>\n",
       "<script type=\"text/javascript\">\n",
       "  (function(spec, embedOpt){\n",
       "    let outputDiv = document.currentScript.previousElementSibling;\n",
       "    if (outputDiv.id !== \"altair-viz-824e21bf755244dcb492246572d3fae8\") {\n",
       "      outputDiv = document.getElementById(\"altair-viz-824e21bf755244dcb492246572d3fae8\");\n",
       "    }\n",
       "    const paths = {\n",
       "      \"vega\": \"https://cdn.jsdelivr.net/npm//vega@5?noext\",\n",
       "      \"vega-lib\": \"https://cdn.jsdelivr.net/npm//vega-lib?noext\",\n",
       "      \"vega-lite\": \"https://cdn.jsdelivr.net/npm//vega-lite@4.8.1?noext\",\n",
       "      \"vega-embed\": \"https://cdn.jsdelivr.net/npm//vega-embed@6?noext\",\n",
       "    };\n",
       "\n",
       "    function loadScript(lib) {\n",
       "      return new Promise(function(resolve, reject) {\n",
       "        var s = document.createElement('script');\n",
       "        s.src = paths[lib];\n",
       "        s.async = true;\n",
       "        s.onload = () => resolve(paths[lib]);\n",
       "        s.onerror = () => reject(`Error loading script: ${paths[lib]}`);\n",
       "        document.getElementsByTagName(\"head\")[0].appendChild(s);\n",
       "      });\n",
       "    }\n",
       "\n",
       "    function showError(err) {\n",
       "      outputDiv.innerHTML = `<div class=\"error\" style=\"color:red;\">${err}</div>`;\n",
       "      throw err;\n",
       "    }\n",
       "\n",
       "    function displayChart(vegaEmbed) {\n",
       "      vegaEmbed(outputDiv, spec, embedOpt)\n",
       "        .catch(err => showError(`Javascript Error: ${err.message}<br>This usually means there's a typo in your chart specification. See the javascript console for the full traceback.`));\n",
       "    }\n",
       "\n",
       "    if(typeof define === \"function\" && define.amd) {\n",
       "      requirejs.config({paths});\n",
       "      require([\"vega-embed\"], displayChart, err => showError(`Error loading script: ${err.message}`));\n",
       "    } else if (typeof vegaEmbed === \"function\") {\n",
       "      displayChart(vegaEmbed);\n",
       "    } else {\n",
       "      loadScript(\"vega\")\n",
       "        .then(() => loadScript(\"vega-lite\"))\n",
       "        .then(() => loadScript(\"vega-embed\"))\n",
       "        .catch(showError)\n",
       "        .then(() => displayChart(vegaEmbed));\n",
       "    }\n",
       "  })({\"config\": {\"view\": {\"continuousWidth\": 400, \"continuousHeight\": 300}}, \"concat\": [{\"concat\": [{\"mark\": \"rect\", \"encoding\": {\"color\": {\"type\": \"quantitative\", \"field\": \"z\"}, \"tooltip\": [{\"type\": \"quantitative\", \"field\": \"z\", \"title\": \"z\"}], \"x\": {\"type\": \"ordinal\", \"axis\": null, \"field\": \"x\"}, \"y\": {\"type\": \"ordinal\", \"axis\": null, \"field\": \"y\"}}, \"height\": 250, \"title\": \"<Linear Layer>\", \"width\": 250}], \"data\": {\"url\": \"altair-data-f2053381a8bc222c02943e859f6bf3e8.json\", \"format\": {\"type\": \"json\"}}}, {\"concat\": [{\"mark\": \"rect\", \"encoding\": {\"color\": {\"type\": \"quantitative\", \"field\": \"z\"}, \"tooltip\": [{\"type\": \"quantitative\", \"field\": \"z\", \"title\": \"z\"}], \"x\": {\"type\": \"ordinal\", \"axis\": null, \"field\": \"x\"}, \"y\": {\"type\": \"ordinal\", \"axis\": null, \"field\": \"y\"}}, \"height\": 250, \"title\": \"<Linear Layer>\", \"width\": 250}], \"data\": {\"url\": \"altair-data-50369f8d81b007271f04dd8a310ffea8.json\", \"format\": {\"type\": \"json\"}}}, {\"concat\": [{\"mark\": \"rect\", \"encoding\": {\"color\": {\"type\": \"quantitative\", \"field\": \"z\"}, \"tooltip\": [{\"type\": \"quantitative\", \"field\": \"z\", \"title\": \"z\"}], \"x\": {\"type\": \"ordinal\", \"axis\": null, \"field\": \"x\"}, \"y\": {\"type\": \"ordinal\", \"axis\": null, \"field\": \"y\"}}, \"height\": 250, \"title\": \"<Gaussian Layer>\", \"width\": 250}], \"data\": {\"url\": \"altair-data-a911cdc7ebe8997d15c6d133ebaedfe4.json\", \"format\": {\"type\": \"json\"}}}], \"$schema\": \"https://vega.github.io/schema/vega-lite/v4.8.1.json\"}, {\"mode\": \"vega-lite\"});\n",
       "</script>"
      ],
      "text/plain": [
       "alt.ConcatChart(...)"
      ]
     },
     "execution_count": 28,
     "metadata": {},
     "output_type": "execute_result"
    }
   ],
   "source": [
    "# why are these plotting differently than when drawn individually?\n",
    "alt.concat(\n",
    "    mean_temp.draw(),\n",
    "    min_temp.draw(),\n",
    "    elev.draw(),\n",
    ")"
   ]
  },
  {
   "cell_type": "code",
   "execution_count": 29,
   "id": "heard-laser",
   "metadata": {},
   "outputs": [
    {
     "data": {
      "text/html": [
       "\n",
       "<div id=\"altair-viz-dd792fd2a0b34db8b44d95ffa8e27f1a\"></div>\n",
       "<script type=\"text/javascript\">\n",
       "  (function(spec, embedOpt){\n",
       "    let outputDiv = document.currentScript.previousElementSibling;\n",
       "    if (outputDiv.id !== \"altair-viz-dd792fd2a0b34db8b44d95ffa8e27f1a\") {\n",
       "      outputDiv = document.getElementById(\"altair-viz-dd792fd2a0b34db8b44d95ffa8e27f1a\");\n",
       "    }\n",
       "    const paths = {\n",
       "      \"vega\": \"https://cdn.jsdelivr.net/npm//vega@5?noext\",\n",
       "      \"vega-lib\": \"https://cdn.jsdelivr.net/npm//vega-lib?noext\",\n",
       "      \"vega-lite\": \"https://cdn.jsdelivr.net/npm//vega-lite@4.8.1?noext\",\n",
       "      \"vega-embed\": \"https://cdn.jsdelivr.net/npm//vega-embed@6?noext\",\n",
       "    };\n",
       "\n",
       "    function loadScript(lib) {\n",
       "      return new Promise(function(resolve, reject) {\n",
       "        var s = document.createElement('script');\n",
       "        s.src = paths[lib];\n",
       "        s.async = true;\n",
       "        s.onload = () => resolve(paths[lib]);\n",
       "        s.onerror = () => reject(`Error loading script: ${paths[lib]}`);\n",
       "        document.getElementsByTagName(\"head\")[0].appendChild(s);\n",
       "      });\n",
       "    }\n",
       "\n",
       "    function showError(err) {\n",
       "      outputDiv.innerHTML = `<div class=\"error\" style=\"color:red;\">${err}</div>`;\n",
       "      throw err;\n",
       "    }\n",
       "\n",
       "    function displayChart(vegaEmbed) {\n",
       "      vegaEmbed(outputDiv, spec, embedOpt)\n",
       "        .catch(err => showError(`Javascript Error: ${err.message}<br>This usually means there's a typo in your chart specification. See the javascript console for the full traceback.`));\n",
       "    }\n",
       "\n",
       "    if(typeof define === \"function\" && define.amd) {\n",
       "      requirejs.config({paths});\n",
       "      require([\"vega-embed\"], displayChart, err => showError(`Error loading script: ${err.message}`));\n",
       "    } else if (typeof vegaEmbed === \"function\") {\n",
       "      displayChart(vegaEmbed);\n",
       "    } else {\n",
       "      loadScript(\"vega\")\n",
       "        .then(() => loadScript(\"vega-lite\"))\n",
       "        .then(() => loadScript(\"vega-embed\"))\n",
       "        .catch(showError)\n",
       "        .then(() => displayChart(vegaEmbed));\n",
       "    }\n",
       "  })({\"config\": {\"view\": {\"continuousWidth\": 400, \"continuousHeight\": 300}}, \"concat\": [{\"mark\": \"rect\", \"encoding\": {\"color\": {\"type\": \"quantitative\", \"field\": \"z\"}, \"tooltip\": [{\"type\": \"quantitative\", \"field\": \"z\", \"title\": \"z\"}], \"x\": {\"type\": \"ordinal\", \"axis\": null, \"field\": \"x\"}, \"y\": {\"type\": \"ordinal\", \"axis\": null, \"field\": \"y\"}}, \"height\": 250, \"title\": \"<Layer>\", \"width\": 250}], \"data\": {\"url\": \"altair-data-3b469864e4079dd3a9dc3e298e986bfe.json\", \"format\": {\"type\": \"json\"}}, \"$schema\": \"https://vega.github.io/schema/vega-lite/v4.8.1.json\"}, {\"mode\": \"vega-lite\"});\n",
       "</script>"
      ],
      "text/plain": [
       "alt.ConcatChart(...)"
      ]
     },
     "execution_count": 29,
     "metadata": {},
     "output_type": "execute_result"
    }
   ],
   "source": [
    "joint = (mean_temp + min_temp + elev)\n",
    "joint.draw()"
   ]
  },
  {
   "cell_type": "code",
   "execution_count": null,
   "id": "optional-forty",
   "metadata": {},
   "outputs": [],
   "source": []
  }
 ],
 "metadata": {
  "kernelspec": {
   "display_name": "Python 3",
   "language": "python",
   "name": "python3"
  },
  "language_info": {
   "codemirror_mode": {
    "name": "ipython",
    "version": 3
   },
   "file_extension": ".py",
   "mimetype": "text/x-python",
   "name": "python",
   "nbconvert_exporter": "python",
   "pygments_lexer": "ipython3",
   "version": "3.8.5"
  },
  "varInspector": {
   "cols": {
    "lenName": 16,
    "lenType": 16,
    "lenVar": 40
   },
   "kernels_config": {
    "python": {
     "delete_cmd_postfix": "",
     "delete_cmd_prefix": "del ",
     "library": "var_list.py",
     "varRefreshCmd": "print(var_dic_list())"
    },
    "r": {
     "delete_cmd_postfix": ") ",
     "delete_cmd_prefix": "rm(",
     "library": "var_list.r",
     "varRefreshCmd": "cat(var_dic_list()) "
    }
   },
   "types_to_exclude": [
    "module",
    "function",
    "builtin_function_or_method",
    "instance",
    "_Feature"
   ],
   "window_display": false
  }
 },
 "nbformat": 4,
 "nbformat_minor": 5
}
