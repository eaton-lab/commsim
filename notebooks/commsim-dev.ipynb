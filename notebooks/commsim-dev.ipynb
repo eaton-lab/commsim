{
 "cells": [
  {
   "cell_type": "code",
   "execution_count": 1,
   "id": "needed-given",
   "metadata": {},
   "outputs": [],
   "source": [
    "import numpy as np\n",
    "import sys\n",
    "import toyplot\n",
    "import toyplot.browser\n",
    "\n",
    "sys.path.append(\"..\")\n",
    "from commsim.Species import Species\n",
    "from commsim.Environment import Environment"
   ]
  },
  {
   "cell_type": "code",
   "execution_count": 2,
   "id": "beautiful-message",
   "metadata": {},
   "outputs": [
    {
     "name": "stdout",
     "output_type": "stream",
     "text": [
      "<Species idx=0, o=(10, 10), e=0.5, bioclim={'mean-temp': (5, 1)}>\n",
      "<Species idx=1, o=(30, 30), e=0.05, bioclim={'mean-temp': (3, 3)}>\n"
     ]
    }
   ],
   "source": [
    "class Species:\n",
    "    \"\"\"\n",
    "    A species origin is the x,y coordinate defining the center of\n",
    "    its geographic range. The environment at this location will \n",
    "    determine its niche preferences, which combined with a dispersal\n",
    "    decay rate, and other species occurrences, will determine its \n",
    "    occurrence in sites around origin.\n",
    "    \n",
    "    Parameters\n",
    "    ----------\n",
    "    origin (tuple or list):\n",
    "        A set of x, y coordinates for the center of origin of a spp. range.\n",
    "    decay (float):\n",
    "        The exponential decay rate parameter for dispersal from origin.\n",
    "    bioclim (dict):\n",
    "        A dict of key,val pairs with keys as bioclim variable names and \n",
    "        values as tuples of (mean, std) for species tolerances.\n",
    "    \"\"\"\n",
    "    # global species index counter\n",
    "    idx = 0\n",
    "    \n",
    "    def __init__(self, origin, decay, bioclim):\n",
    "       \n",
    "        # store this instances attrs\n",
    "        self.idx = Species.idx\n",
    "        self.origin = origin\n",
    "        self.decay = decay\n",
    "        self.bioclim = bioclim\n",
    "        \n",
    "        # increment the global counter when an instance is made\n",
    "        Species.idx += 1        \n",
    "    \n",
    "    def __repr__(self):\n",
    "        \"\"\"\n",
    "        custom repr shows species global idx, origin, and decay\"\n",
    "        \"\"\"\n",
    "        return f\"<Species idx={self.idx}, o={self.origin}, e={self.decay}, bioclim={self.bioclim}>\"\n",
    "\n",
    "\n",
    "\n",
    "\n",
    "if __name__ == \"__main__\":\n",
    "\n",
    "    # two example Species \n",
    "    A = Species((10, 10), 0.5, {\"mean-temp\": (5, 1)})\n",
    "    B = Species((30, 30), 0.05, {\"mean-temp\": (3, 3)})\n",
    "    print(A)\n",
    "    print(B)"
   ]
  },
  {
   "cell_type": "code",
   "execution_count": 3,
   "id": "english-bermuda",
   "metadata": {},
   "outputs": [],
   "source": [
    "ped_siphonantha = Species((42, 42), 0.3, {\"mean-temp\": (8, 2)})"
   ]
  },
  {
   "cell_type": "code",
   "execution_count": 4,
   "id": "monetary-circus",
   "metadata": {},
   "outputs": [
    {
     "name": "stdout",
     "output_type": "stream",
     "text": [
      "<Species idx=2, o=(42, 42), e=0.3, bioclim={'mean-temp': (8, 2)}>\n"
     ]
    }
   ],
   "source": [
    "print(ped_siphonantha)"
   ]
  },
  {
   "cell_type": "code",
   "execution_count": 5,
   "id": "collaborative-bottom",
   "metadata": {},
   "outputs": [
    {
     "name": "stdout",
     "output_type": "stream",
     "text": [
      "<Environment shape=((3, 100, 100))>\n"
     ]
    }
   ],
   "source": [
    "class Environment:\n",
    "    \"\"\"\n",
    "    A matrix of environment layers with float values representing \n",
    "    spatial variation. Environmental variables (bioclims) are added\n",
    "    as simple gradients with min,max values, and they are then \n",
    "    transformed by elevation which can apply a different coefficient\n",
    "    to each variable (how strongly it correlates with elevation).\n",
    "\n",
    "    The environmental matrix is created during init and then there\n",
    "    are draw functions available to visualize the array layers.\n",
    "    \n",
    "    Parameters:\n",
    "    -----------\n",
    "    ...\n",
    "    \"\"\"\n",
    "    def __init__(self, shape, bioclims, elevation):\n",
    "              \n",
    "        # env layers; starts with 1, additional can be added.\n",
    "        nbioclim = max(1, len(bioclims))\n",
    "        self.arr = np.zeros((nbioclim, shape[0], shape[1]), dtype=float)\n",
    "        \n",
    "        # elevation multipliers\n",
    "        self.elevation = elevation\n",
    "        self.elev = np.zeros((1, shape[0], shape[1]), dtype=float)        \n",
    "\n",
    "        # fill base gradient layers first\n",
    "        self._apply_base_gradient_layers()\n",
    "\n",
    "        # then transform base layers by elevation\n",
    "        self._apply_elevation_transform()\n",
    "\n",
    "    def __repr__(self):\n",
    "        return f\"<Environment shape=({self.arr.shape})>\"\n",
    "\n",
    "\n",
    "    def _apply_base_gradient_layers(self):\n",
    "        pass\n",
    "\n",
    "    def _apply_elevation_transform(self):\n",
    "        pass\n",
    "        \n",
    "    \n",
    "    def add_linear_gradient(self):\n",
    "        \"\"\"\n",
    "        Adds a linear gradient niche axis (e.g., temperature from S to N)\n",
    "        \"\"\"\n",
    "        pass\n",
    "    \n",
    "    \n",
    "    def add_gaussian_gradient(self, npeaks, seed):\n",
    "        \"\"\"\n",
    "        Adds N gaussian gradients summed (e.g., mountain elevational variation)\n",
    "        \"\"\"\n",
    "        pass\n",
    "        \n",
    "        \n",
    "    def add_chevron_layers(self, nshapes):\n",
    "        \"\"\"\n",
    "        Adds N chevrons to fit left to right on grid.\n",
    "        \"\"\"\n",
    "        pass\n",
    "    \n",
    "    \n",
    "    def get_summed_layers(self):\n",
    "        \"\"\"\n",
    "        Return summed and normalized environmental layers.\n",
    "        \"\"\"\n",
    "        pass\n",
    "    \n",
    "    \n",
    "    def draw(self):\n",
    "        \"\"\"\n",
    "        Returns a toyplot (canvas, axes) tuple of grid env.\n",
    "        \"\"\"\n",
    "\n",
    "        # build drawing\n",
    "        canvas, table = toyplot.matrix(self.arr[0])\n",
    "\n",
    "        # show result in browser if not in a notebook\n",
    "        if not sys.stdout.isatty():\n",
    "            toyplot.browser.show(canvas)\n",
    "            return (None, None)\n",
    "        return canvas, table\n",
    "            \n",
    "\n",
    "if __name__ == \"__main__\":\n",
    "\n",
    "    env = Environment(\n",
    "        shape=(100, 100), \n",
    "        bioclims={\n",
    "            \"mean-temp\": (0, 20, \"linear-sn\"),\n",
    "            \"min-temp\": (-20, 10, \"linear-we\"),\n",
    "            \"mean-precip\": (0.1, 1.0, \"linear-we\"),\n",
    "        },\n",
    "        elevation={\n",
    "            \"mean-temp\": 0.1,\n",
    "            \"min-temp\": 0.2,\n",
    "            \"mean-precip\": 0.5,\n",
    "        },\n",
    "    )\n",
    "\n",
    "    print(env)\n",
    "    env.draw()"
   ]
  },
  {
   "cell_type": "code",
   "execution_count": 6,
   "id": "resistant-server",
   "metadata": {},
   "outputs": [
    {
     "name": "stdout",
     "output_type": "stream",
     "text": [
      "<Community nspecies=10; nenvs=1>\n"
     ]
    }
   ],
   "source": [
    "\"\"\"\n",
    "Community class object for representing multiple species ranges.\n",
    "\"\"\"\n",
    "\n",
    "class Community:\n",
    "    \"\"\"\n",
    "    Generates a community assemblage matrix from a commsim.Environment\n",
    "    object and an list of commsim.Species objects.\n",
    "    \"\"\"\n",
    "\n",
    "    def __init__(self, env, species_list):\n",
    "\n",
    "        # get dimensions from the environment matrix\n",
    "        self.env = env\n",
    "        self.x = env.arr.shape[1]\n",
    "        self.y = env.arr.shape[2]\n",
    "\n",
    "        # make new array for storing all species ranges\n",
    "        self.arr = np.zeros((len(species_list), self.x, self.y), dtype=np.int8)\n",
    "\n",
    "    def __repr__(self):\n",
    "        return f\"<Community nspecies={self.arr.shape[0]}; nenvs={self.env.arr.shape[0]}>\"\n",
    "\n",
    "    def spp_richness(self):\n",
    "        \"returns the sum of species at all sites\"\n",
    "        pass\n",
    "\n",
    "    def spp_range(self, idx):\n",
    "        \"returns the occurrence of a selected species\"\n",
    "        pass\n",
    "\n",
    "\n",
    "if __name__ == \"__main__\":\n",
    "\n",
    "    # generate several species\n",
    "    SPECIES_LIST = []\n",
    "    for idx in range(10):\n",
    "        \n",
    "        # randomly select a center coordinate and decay rate\n",
    "        xcoord = np.random.uniform(0, 100)\n",
    "        ycoord = np.random.uniform(0, 100)\n",
    "        decay = np.random.uniform(0, 1)\n",
    "\n",
    "        # init Species with random values\n",
    "        spp = Species(\n",
    "            origin=(xcoord, ycoord), \n",
    "            decay=decay, \n",
    "            bioclim={\n",
    "                \"mean-temp\": (5, 5),\n",
    "                \"min-temp\": (1, 5),\n",
    "                \"mean-precip\": (0.1, 0.01),\n",
    "            }\n",
    "        )\n",
    "        SPECIES_LIST.append(spp)\n",
    "\n",
    "    # generate random environment\n",
    "    ENV = Environment(\n",
    "        shape=(100, 100), \n",
    "        bioclims={},\n",
    "        elevation={},\n",
    "    )\n",
    "\n",
    "    # build community from species and environment\n",
    "    comm = Community(ENV, SPECIES_LIST)\n",
    "    print(comm)"
   ]
  }
 ],
 "metadata": {
  "kernelspec": {
   "display_name": "Python 3",
   "language": "python",
   "name": "python3"
  },
  "language_info": {
   "codemirror_mode": {
    "name": "ipython",
    "version": 3
   },
   "file_extension": ".py",
   "mimetype": "text/x-python",
   "name": "python",
   "nbconvert_exporter": "python",
   "pygments_lexer": "ipython3",
   "version": "3.8.5"
  },
  "varInspector": {
   "cols": {
    "lenName": 16,
    "lenType": 16,
    "lenVar": 40
   },
   "kernels_config": {
    "python": {
     "delete_cmd_postfix": "",
     "delete_cmd_prefix": "del ",
     "library": "var_list.py",
     "varRefreshCmd": "print(var_dic_list())"
    },
    "r": {
     "delete_cmd_postfix": ") ",
     "delete_cmd_prefix": "rm(",
     "library": "var_list.r",
     "varRefreshCmd": "cat(var_dic_list()) "
    }
   },
   "types_to_exclude": [
    "module",
    "function",
    "builtin_function_or_method",
    "instance",
    "_Feature"
   ],
   "window_display": false
  }
 },
 "nbformat": 4,
 "nbformat_minor": 5
}
